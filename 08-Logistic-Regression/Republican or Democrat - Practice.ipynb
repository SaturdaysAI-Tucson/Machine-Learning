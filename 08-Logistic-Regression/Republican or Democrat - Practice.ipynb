{
 "cells": [
  {
   "cell_type": "markdown",
   "metadata": {},
   "source": [
    "## Republican or Democrat\n",
    "\n",
    "For this exercise we are going to use data from the 1984 United States Congressional Voting Records Database (take a look at the data dictionary) to predict if a congressmen/women is a republican or democrat"
   ]
  },
  {
   "cell_type": "code",
   "execution_count": 3,
   "metadata": {},
   "outputs": [],
   "source": [
    "## Basic packages\n",
    "import numpy as np\n",
    "import pandas as pd\n",
    "\n",
    "## Graphing packages\n",
    "import seaborn as sns\n",
    "import matplotlib.pyplot as plt\n",
    "plt.style.use('fivethirtyeight')"
   ]
  },
  {
   "cell_type": "code",
   "execution_count": 4,
   "metadata": {},
   "outputs": [],
   "source": [
    "## Define the colum/variable/feature names\n",
    "columns = [\n",
    "    \"class\", \n",
    "    \"handicapped_infants\", \n",
    "    \"water_project_cost\", \n",
    "    \"adoption_of_the_budget_resolution\", \n",
    "    \"physician_fee_freeze\",\n",
    "    \"el_salvador_aid\",\n",
    "    \"religious_groups_in_schools\",\n",
    "    \"anti_satellite_test_ban\",\n",
    "    \"aid_to_nicaraguan_contras\",\n",
    "    \"mx_missile\",\n",
    "    \"immigration\",\n",
    "    \"synfuels_corporation_cutback\",\n",
    "    \"education_spending\",\n",
    "    \"superfund_right_to_sue\",\n",
    "    \"crime\",\n",
    "    \"duty_free_exports\",\n",
    "    \"export_administration_act_south_africa\"\n",
    "]\n",
    "\n",
    "\n",
    "'''We are going to read the data directly from the web'''\n",
    "csv_url = \"http://archive.ics.uci.edu/ml/machine-learning-databases/voting-records/house-votes-84.data\"\n",
    "\n",
    "''' Here we are reading the data and create a binary var 0 for republican 1 for democrat'''\n",
    "house_df = pd.read_csv(csv_url, names = columns)\n",
    "\n",
    "house_df['class'] = house_df['class'].map(lambda value: 0 if value == \"republican\" else 1 )"
   ]
  },
  {
   "cell_type": "code",
   "execution_count": 5,
   "metadata": {},
   "outputs": [
    {
     "data": {
      "text/html": [
       "<div>\n",
       "<style scoped>\n",
       "    .dataframe tbody tr th:only-of-type {\n",
       "        vertical-align: middle;\n",
       "    }\n",
       "\n",
       "    .dataframe tbody tr th {\n",
       "        vertical-align: top;\n",
       "    }\n",
       "\n",
       "    .dataframe thead th {\n",
       "        text-align: right;\n",
       "    }\n",
       "</style>\n",
       "<table border=\"1\" class=\"dataframe\">\n",
       "  <thead>\n",
       "    <tr style=\"text-align: right;\">\n",
       "      <th></th>\n",
       "      <th>class</th>\n",
       "      <th>handicapped_infants</th>\n",
       "      <th>water_project_cost</th>\n",
       "      <th>adoption_of_the_budget_resolution</th>\n",
       "      <th>physician_fee_freeze</th>\n",
       "      <th>el_salvador_aid</th>\n",
       "      <th>religious_groups_in_schools</th>\n",
       "      <th>anti_satellite_test_ban</th>\n",
       "      <th>aid_to_nicaraguan_contras</th>\n",
       "      <th>mx_missile</th>\n",
       "      <th>immigration</th>\n",
       "      <th>synfuels_corporation_cutback</th>\n",
       "      <th>education_spending</th>\n",
       "      <th>superfund_right_to_sue</th>\n",
       "      <th>crime</th>\n",
       "      <th>duty_free_exports</th>\n",
       "      <th>export_administration_act_south_africa</th>\n",
       "    </tr>\n",
       "  </thead>\n",
       "  <tbody>\n",
       "    <tr>\n",
       "      <th>0</th>\n",
       "      <td>0</td>\n",
       "      <td>n</td>\n",
       "      <td>y</td>\n",
       "      <td>n</td>\n",
       "      <td>y</td>\n",
       "      <td>y</td>\n",
       "      <td>y</td>\n",
       "      <td>n</td>\n",
       "      <td>n</td>\n",
       "      <td>n</td>\n",
       "      <td>y</td>\n",
       "      <td>?</td>\n",
       "      <td>y</td>\n",
       "      <td>y</td>\n",
       "      <td>y</td>\n",
       "      <td>n</td>\n",
       "      <td>y</td>\n",
       "    </tr>\n",
       "    <tr>\n",
       "      <th>1</th>\n",
       "      <td>0</td>\n",
       "      <td>n</td>\n",
       "      <td>y</td>\n",
       "      <td>n</td>\n",
       "      <td>y</td>\n",
       "      <td>y</td>\n",
       "      <td>y</td>\n",
       "      <td>n</td>\n",
       "      <td>n</td>\n",
       "      <td>n</td>\n",
       "      <td>n</td>\n",
       "      <td>n</td>\n",
       "      <td>y</td>\n",
       "      <td>y</td>\n",
       "      <td>y</td>\n",
       "      <td>n</td>\n",
       "      <td>?</td>\n",
       "    </tr>\n",
       "    <tr>\n",
       "      <th>2</th>\n",
       "      <td>1</td>\n",
       "      <td>?</td>\n",
       "      <td>y</td>\n",
       "      <td>y</td>\n",
       "      <td>?</td>\n",
       "      <td>y</td>\n",
       "      <td>y</td>\n",
       "      <td>n</td>\n",
       "      <td>n</td>\n",
       "      <td>n</td>\n",
       "      <td>n</td>\n",
       "      <td>y</td>\n",
       "      <td>n</td>\n",
       "      <td>y</td>\n",
       "      <td>y</td>\n",
       "      <td>n</td>\n",
       "      <td>n</td>\n",
       "    </tr>\n",
       "    <tr>\n",
       "      <th>3</th>\n",
       "      <td>1</td>\n",
       "      <td>n</td>\n",
       "      <td>y</td>\n",
       "      <td>y</td>\n",
       "      <td>n</td>\n",
       "      <td>?</td>\n",
       "      <td>y</td>\n",
       "      <td>n</td>\n",
       "      <td>n</td>\n",
       "      <td>n</td>\n",
       "      <td>n</td>\n",
       "      <td>y</td>\n",
       "      <td>n</td>\n",
       "      <td>y</td>\n",
       "      <td>n</td>\n",
       "      <td>n</td>\n",
       "      <td>y</td>\n",
       "    </tr>\n",
       "    <tr>\n",
       "      <th>4</th>\n",
       "      <td>1</td>\n",
       "      <td>y</td>\n",
       "      <td>y</td>\n",
       "      <td>y</td>\n",
       "      <td>n</td>\n",
       "      <td>y</td>\n",
       "      <td>y</td>\n",
       "      <td>n</td>\n",
       "      <td>n</td>\n",
       "      <td>n</td>\n",
       "      <td>n</td>\n",
       "      <td>y</td>\n",
       "      <td>?</td>\n",
       "      <td>y</td>\n",
       "      <td>y</td>\n",
       "      <td>y</td>\n",
       "      <td>y</td>\n",
       "    </tr>\n",
       "  </tbody>\n",
       "</table>\n",
       "</div>"
      ],
      "text/plain": [
       "   class handicapped_infants water_project_cost  \\\n",
       "0      0                   n                  y   \n",
       "1      0                   n                  y   \n",
       "2      1                   ?                  y   \n",
       "3      1                   n                  y   \n",
       "4      1                   y                  y   \n",
       "\n",
       "  adoption_of_the_budget_resolution physician_fee_freeze el_salvador_aid  \\\n",
       "0                                 n                    y               y   \n",
       "1                                 n                    y               y   \n",
       "2                                 y                    ?               y   \n",
       "3                                 y                    n               ?   \n",
       "4                                 y                    n               y   \n",
       "\n",
       "  religious_groups_in_schools anti_satellite_test_ban  \\\n",
       "0                           y                       n   \n",
       "1                           y                       n   \n",
       "2                           y                       n   \n",
       "3                           y                       n   \n",
       "4                           y                       n   \n",
       "\n",
       "  aid_to_nicaraguan_contras mx_missile immigration  \\\n",
       "0                         n          n           y   \n",
       "1                         n          n           n   \n",
       "2                         n          n           n   \n",
       "3                         n          n           n   \n",
       "4                         n          n           n   \n",
       "\n",
       "  synfuels_corporation_cutback education_spending superfund_right_to_sue  \\\n",
       "0                            ?                  y                      y   \n",
       "1                            n                  y                      y   \n",
       "2                            y                  n                      y   \n",
       "3                            y                  n                      y   \n",
       "4                            y                  ?                      y   \n",
       "\n",
       "  crime duty_free_exports export_administration_act_south_africa  \n",
       "0     y                 n                                      y  \n",
       "1     y                 n                                      ?  \n",
       "2     y                 n                                      n  \n",
       "3     n                 n                                      y  \n",
       "4     y                 y                                      y  "
      ]
     },
     "execution_count": 5,
     "metadata": {},
     "output_type": "execute_result"
    }
   ],
   "source": [
    "# Print head of the data set\n",
    "\n",
    "# ADD YOUR CODE HERE TO PRINT THE HEAD "
   ]
  },
  {
   "cell_type": "code",
   "execution_count": 6,
   "metadata": {},
   "outputs": [],
   "source": [
    "## Lets clean the dataset\n",
    "house_df.replace('?', np.nan, inplace=True)\n",
    "house_df.ffill(inplace=True)"
   ]
  },
  {
   "cell_type": "code",
   "execution_count": 5,
   "metadata": {},
   "outputs": [
    {
     "data": {
      "text/html": [
       "<div>\n",
       "<style scoped>\n",
       "    .dataframe tbody tr th:only-of-type {\n",
       "        vertical-align: middle;\n",
       "    }\n",
       "\n",
       "    .dataframe tbody tr th {\n",
       "        vertical-align: top;\n",
       "    }\n",
       "\n",
       "    .dataframe thead th {\n",
       "        text-align: right;\n",
       "    }\n",
       "</style>\n",
       "<table border=\"1\" class=\"dataframe\">\n",
       "  <thead>\n",
       "    <tr style=\"text-align: right;\">\n",
       "      <th></th>\n",
       "      <th>class</th>\n",
       "      <th>handicapped_infants_n</th>\n",
       "      <th>handicapped_infants_y</th>\n",
       "      <th>water_project_cost_n</th>\n",
       "      <th>water_project_cost_y</th>\n",
       "      <th>adoption_of_the_budget_resolution_n</th>\n",
       "      <th>adoption_of_the_budget_resolution_y</th>\n",
       "      <th>physician_fee_freeze_n</th>\n",
       "      <th>physician_fee_freeze_y</th>\n",
       "      <th>el_salvador_aid_n</th>\n",
       "      <th>...</th>\n",
       "      <th>education_spending_n</th>\n",
       "      <th>education_spending_y</th>\n",
       "      <th>superfund_right_to_sue_n</th>\n",
       "      <th>superfund_right_to_sue_y</th>\n",
       "      <th>crime_n</th>\n",
       "      <th>crime_y</th>\n",
       "      <th>duty_free_exports_n</th>\n",
       "      <th>duty_free_exports_y</th>\n",
       "      <th>export_administration_act_south_africa_n</th>\n",
       "      <th>export_administration_act_south_africa_y</th>\n",
       "    </tr>\n",
       "  </thead>\n",
       "  <tbody>\n",
       "    <tr>\n",
       "      <th>0</th>\n",
       "      <td>0</td>\n",
       "      <td>1</td>\n",
       "      <td>0</td>\n",
       "      <td>0</td>\n",
       "      <td>1</td>\n",
       "      <td>1</td>\n",
       "      <td>0</td>\n",
       "      <td>0</td>\n",
       "      <td>1</td>\n",
       "      <td>0</td>\n",
       "      <td>...</td>\n",
       "      <td>0</td>\n",
       "      <td>1</td>\n",
       "      <td>0</td>\n",
       "      <td>1</td>\n",
       "      <td>0</td>\n",
       "      <td>1</td>\n",
       "      <td>1</td>\n",
       "      <td>0</td>\n",
       "      <td>0</td>\n",
       "      <td>1</td>\n",
       "    </tr>\n",
       "    <tr>\n",
       "      <th>1</th>\n",
       "      <td>0</td>\n",
       "      <td>1</td>\n",
       "      <td>0</td>\n",
       "      <td>0</td>\n",
       "      <td>1</td>\n",
       "      <td>1</td>\n",
       "      <td>0</td>\n",
       "      <td>0</td>\n",
       "      <td>1</td>\n",
       "      <td>0</td>\n",
       "      <td>...</td>\n",
       "      <td>0</td>\n",
       "      <td>1</td>\n",
       "      <td>0</td>\n",
       "      <td>1</td>\n",
       "      <td>0</td>\n",
       "      <td>1</td>\n",
       "      <td>1</td>\n",
       "      <td>0</td>\n",
       "      <td>0</td>\n",
       "      <td>1</td>\n",
       "    </tr>\n",
       "    <tr>\n",
       "      <th>2</th>\n",
       "      <td>1</td>\n",
       "      <td>1</td>\n",
       "      <td>0</td>\n",
       "      <td>0</td>\n",
       "      <td>1</td>\n",
       "      <td>0</td>\n",
       "      <td>1</td>\n",
       "      <td>0</td>\n",
       "      <td>1</td>\n",
       "      <td>0</td>\n",
       "      <td>...</td>\n",
       "      <td>1</td>\n",
       "      <td>0</td>\n",
       "      <td>0</td>\n",
       "      <td>1</td>\n",
       "      <td>0</td>\n",
       "      <td>1</td>\n",
       "      <td>1</td>\n",
       "      <td>0</td>\n",
       "      <td>1</td>\n",
       "      <td>0</td>\n",
       "    </tr>\n",
       "  </tbody>\n",
       "</table>\n",
       "<p>3 rows × 33 columns</p>\n",
       "</div>"
      ],
      "text/plain": [
       "   class  handicapped_infants_n  handicapped_infants_y  water_project_cost_n  \\\n",
       "0      0                      1                      0                     0   \n",
       "1      0                      1                      0                     0   \n",
       "2      1                      1                      0                     0   \n",
       "\n",
       "   water_project_cost_y  adoption_of_the_budget_resolution_n  \\\n",
       "0                     1                                    1   \n",
       "1                     1                                    1   \n",
       "2                     1                                    0   \n",
       "\n",
       "   adoption_of_the_budget_resolution_y  physician_fee_freeze_n  \\\n",
       "0                                    0                       0   \n",
       "1                                    0                       0   \n",
       "2                                    1                       0   \n",
       "\n",
       "   physician_fee_freeze_y  el_salvador_aid_n  ...  education_spending_n  \\\n",
       "0                       1                  0  ...                     0   \n",
       "1                       1                  0  ...                     0   \n",
       "2                       1                  0  ...                     1   \n",
       "\n",
       "   education_spending_y  superfund_right_to_sue_n  superfund_right_to_sue_y  \\\n",
       "0                     1                         0                         1   \n",
       "1                     1                         0                         1   \n",
       "2                     0                         0                         1   \n",
       "\n",
       "   crime_n  crime_y  duty_free_exports_n  duty_free_exports_y  \\\n",
       "0        0        1                    1                    0   \n",
       "1        0        1                    1                    0   \n",
       "2        0        1                    1                    0   \n",
       "\n",
       "   export_administration_act_south_africa_n  \\\n",
       "0                                         0   \n",
       "1                                         0   \n",
       "2                                         1   \n",
       "\n",
       "   export_administration_act_south_africa_y  \n",
       "0                                         1  \n",
       "1                                         1  \n",
       "2                                         0  \n",
       "\n",
       "[3 rows x 33 columns]"
      ]
     },
     "execution_count": 5,
     "metadata": {},
     "output_type": "execute_result"
    }
   ],
   "source": [
    "## Create dummy variable, use pd-get_dummies on the data set \n",
    "\n",
    "df_dummies = # ADD YOUR CODE HERE\n",
    "df_dummies.head(3)"
   ]
  },
  {
   "cell_type": "code",
   "execution_count": 6,
   "metadata": {},
   "outputs": [],
   "source": [
    "from sklearn.model_selection import train_test_split"
   ]
  },
  {
   "cell_type": "code",
   "execution_count": 7,
   "metadata": {},
   "outputs": [
    {
     "name": "stdout",
     "output_type": "stream",
     "text": [
      "(435, 32) (435,)\n",
      "(304, 32) (304,)\n",
      "(131, 32) (131,)\n"
     ]
    }
   ],
   "source": [
    "'''Define y and X'''\n",
    "# OUR TARGET COLUMN IS \"class\"\n",
    "# We need to apply dummies to the class column\n",
    "\n",
    "y = # YOUR CODE HERE\n",
    "columns_ = df_dummies.columns.tolist()\n",
    "exclude_col = ['class']\n",
    "\n",
    "X = df_dummies[[i for i in columns_ if i not in exclude_col]]\n",
    "\n",
    "# print the X and y shapes\n",
    "print (# YOUR CODE HERE )\n",
    "\n",
    "X_train, X_test, y_train, y_test = train_test_split(X, y, test_size=0.30, random_state=10)\n",
    "\n",
    "print (X_train.shape, y_train.shape)\n",
    "print (X_test.shape, y_test.shape)"
   ]
  },
  {
   "cell_type": "code",
   "execution_count": 8,
   "metadata": {},
   "outputs": [
    {
     "name": "stderr",
     "output_type": "stream",
     "text": [
      "/usr/local/lib/python3.7/site-packages/sklearn/linear_model/logistic.py:432: FutureWarning: Default solver will be changed to 'lbfgs' in 0.22. Specify a solver to silence this warning.\n",
      "  FutureWarning)\n"
     ]
    },
    {
     "data": {
      "text/plain": [
       "LogisticRegression(C=1.0, class_weight=None, dual=False, fit_intercept=True,\n",
       "                   intercept_scaling=1, l1_ratio=None, max_iter=100,\n",
       "                   multi_class='warn', n_jobs=None, penalty='l2',\n",
       "                   random_state=None, solver='warn', tol=0.0001, verbose=0,\n",
       "                   warm_start=False)"
      ]
     },
     "execution_count": 8,
     "metadata": {},
     "output_type": "execute_result"
    }
   ],
   "source": [
    "from sklearn.linear_model import LogisticRegression\n",
    "\n",
    "'''Use scikit learn'''\n",
    "r_d_logistic = LogisticRegression()\n",
    "r_d_logistic.fit(X_train, y_train)"
   ]
  },
  {
   "cell_type": "code",
   "execution_count": 9,
   "metadata": {},
   "outputs": [
    {
     "name": "stdout",
     "output_type": "stream",
     "text": [
      "1    267\n",
      "0    168\n",
      "Name: class, dtype: int64 \n",
      "\n",
      "if I randomly choose, 61 percent of the time I/we will be choosing democrat\n"
     ]
    }
   ],
   "source": [
    "'''Baseline'''\n",
    "'''Remeber that 0 is republican 1 is democrat'''\n",
    "\n",
    "# print the value counts of each democrats and republicans.\n",
    "\n",
    "print (#YOUR CODE HERE, \"\\n\" )\n",
    "\n",
    "print (\"if I randomly choose, %.0f percent of the time I/we will be choosing democrat\" \n",
    "        % ((np.mean(df_dummies['class']))*100))"
   ]
  },
  {
   "cell_type": "code",
   "execution_count": 11,
   "metadata": {},
   "outputs": [
    {
     "data": {
      "text/html": [
       "<div>\n",
       "<style scoped>\n",
       "    .dataframe tbody tr th:only-of-type {\n",
       "        vertical-align: middle;\n",
       "    }\n",
       "\n",
       "    .dataframe tbody tr th {\n",
       "        vertical-align: top;\n",
       "    }\n",
       "\n",
       "    .dataframe thead th {\n",
       "        text-align: right;\n",
       "    }\n",
       "</style>\n",
       "<table border=\"1\" class=\"dataframe\">\n",
       "  <thead>\n",
       "    <tr style=\"text-align: right;\">\n",
       "      <th></th>\n",
       "      <th>Predict_Label_0 Republican</th>\n",
       "      <th>Predict_Label_1 Democrat</th>\n",
       "    </tr>\n",
       "  </thead>\n",
       "  <tbody>\n",
       "    <tr>\n",
       "      <th>True_Label_0 Republican</th>\n",
       "      <td>49</td>\n",
       "      <td>2</td>\n",
       "    </tr>\n",
       "    <tr>\n",
       "      <th>True_Label_1 Democrat</th>\n",
       "      <td>3</td>\n",
       "      <td>77</td>\n",
       "    </tr>\n",
       "  </tbody>\n",
       "</table>\n",
       "</div>"
      ],
      "text/plain": [
       "                         Predict_Label_0 Republican  Predict_Label_1 Democrat\n",
       "True_Label_0 Republican                          49                         2\n",
       "True_Label_1 Democrat                             3                        77"
      ]
     },
     "execution_count": 11,
     "metadata": {},
     "output_type": "execute_result"
    }
   ],
   "source": [
    "from sklearn.metrics import confusion_matrix, classification_report\n",
    "\n",
    "## predicting\n",
    "y_pred = r_d_logistic.predict(X_test)\n",
    "\n",
    "# apply the confusion_matrix to y values\n",
    "\n",
    "confmat = confusion_matrix(# your code here)\n",
    "\n",
    "\n",
    "confusion = pd.DataFrame(confmat, index=['True_Label_0 Republican', 'True_Label_1 Democrat'],\n",
    "                         columns=['Predict_Label_0 Republican', 'Predict_Label_1 Democrat'])\n",
    "\n",
    "confusion"
   ]
  },
  {
   "cell_type": "markdown",
   "metadata": {},
   "source": [
    "# Let's get the TP, FP, TN, FN from the confusion matrix"
   ]
  },
  {
   "cell_type": "code",
   "execution_count": 13,
   "metadata": {},
   "outputs": [
    {
     "data": {
      "text/plain": [
       "[('False Negatives', 2),\n",
       " ('False Positives', 3),\n",
       " ('True Negatives', 77),\n",
       " ('True Positives', 49)]"
      ]
     },
     "execution_count": 13,
     "metadata": {},
     "output_type": "execute_result"
    }
   ],
   "source": [
    "TP = confusion.loc['True_Label_0 Republican', 'Predict_Label_0 Republican']  \n",
    "\n",
    "FP = confusion.loc['True_Label_1 Democrat', 'Predict_Label_0 Republican']\n",
    "\n",
    "TN = confusion.loc['True_Label_1 Democrat', 'Predict_Label_1 Democrat']\n",
    "\n",
    "FN = confusion.loc['True_Label_0 Republican', 'Predict_Label_1 Democrat']\n",
    "\n",
    "values = sorted(zip(['True Positives','False Positives','True Negatives','False Negatives'], [TP, FP, TN, FN]))\n",
    "values"
   ]
  },
  {
   "cell_type": "markdown",
   "metadata": {},
   "source": [
    "# Calculate accuracy, Misclassification Rate (Error Rate), Precision, Recall"
   ]
  },
  {
   "cell_type": "code",
   "execution_count": 14,
   "metadata": {},
   "outputs": [
    {
     "name": "stdout",
     "output_type": "stream",
     "text": [
      "Accuracy score: 96.183\n"
     ]
    }
   ],
   "source": [
    "## Accuracy\n",
    "## How often is the classifier correct?\n",
    "from sklearn.metrics import accuracy_score\n",
    "\n",
    "# print accuracy_score for y_test and y_predict\n",
    "acc = accuracy_score(# your code here)\n",
    "    \n",
    "print (\"Accuracy score: %.3f\" %(acc*100))"
   ]
  },
  {
   "cell_type": "code",
   "execution_count": 15,
   "metadata": {},
   "outputs": [
    {
     "name": "stdout",
     "output_type": "stream",
     "text": [
      "Error rate: 3.817\n"
     ]
    }
   ],
   "source": [
    "## Misclassification Rate (Error Rate)\n",
    "## How often is the model wrong\n",
    "# hint: use False positives and False negatives\n",
    "\n",
    "print (\"Error rate: %.3f\" % (((#Your CODE here ####)) / float(len(y_test))*100))"
   ]
  },
  {
   "cell_type": "code",
   "execution_count": 16,
   "metadata": {},
   "outputs": [
    {
     "name": "stdout",
     "output_type": "stream",
     "text": [
      "Precision: 97.468\n"
     ]
    }
   ],
   "source": [
    "## Precision\n",
    "## Ability of the classifier to avoid labeling a class as a member of another class\n",
    "from sklearn.metrics import precision_score\n",
    "\n",
    "# print the precision_score of y_test and y_pred\n",
    "\n",
    "pcs = # your code here\n",
    "print (\"Precision: %.3f\" %(pcs*100))"
   ]
  },
  {
   "cell_type": "code",
   "execution_count": 17,
   "metadata": {},
   "outputs": [
    {
     "name": "stdout",
     "output_type": "stream",
     "text": [
      "Recall: 96.250\n"
     ]
    }
   ],
   "source": [
    "## Recall the ability of the classifier to correctly identify the current class\n",
    "from sklearn.metrics import recall_score\n",
    "\n",
    "# print the recall_score of y_test and y_predict\n",
    "rcs = recall_score(#your code here)\n",
    "print (\"Recall: %.3f\" % (rcs*100))"
   ]
  },
  {
   "cell_type": "code",
   "execution_count": 18,
   "metadata": {},
   "outputs": [
    {
     "name": "stdout",
     "output_type": "stream",
     "text": [
      "              precision    recall  f1-score   support\n",
      "\n",
      "           0      0.942     0.961     0.951        51\n",
      "           1      0.975     0.963     0.969        80\n",
      "\n",
      "    accuracy                          0.962       131\n",
      "   macro avg      0.958     0.962     0.960       131\n",
      "weighted avg      0.962     0.962     0.962       131\n",
      "\n"
     ]
    }
   ],
   "source": [
    "# print a classification report"
   ]
  },
  {
   "cell_type": "code",
   "execution_count": null,
   "metadata": {},
   "outputs": [],
   "source": []
  }
 ],
 "metadata": {
  "kernelspec": {
   "display_name": "Python 3",
   "language": "python",
   "name": "python3"
  },
  "language_info": {
   "codemirror_mode": {
    "name": "ipython",
    "version": 3
   },
   "file_extension": ".py",
   "mimetype": "text/x-python",
   "name": "python",
   "nbconvert_exporter": "python",
   "pygments_lexer": "ipython3",
   "version": "3.7.2"
  }
 },
 "nbformat": 4,
 "nbformat_minor": 2
}
